{
 "cells": [
  {
   "cell_type": "code",
   "execution_count": 1,
   "metadata": {},
   "outputs": [],
   "source": [
    "import pandas as pd\n",
    "import numpy as np\n",
    "from sklearn.linear_model import SGDClassifier\n",
    "from sklearn.model_selection import train_test_split\n",
    "from sklearn.preprocessing import StandardScaler\n",
    "from sklearn.metrics import accuracy_score"
   ]
  },
  {
   "cell_type": "code",
   "execution_count": 2,
   "metadata": {},
   "outputs": [],
   "source": [
    "df = pd.read_csv('binary.csv')"
   ]
  },
  {
   "cell_type": "code",
   "execution_count": 3,
   "metadata": {},
   "outputs": [
    {
     "data": {
      "text/html": [
       "<div>\n",
       "<style scoped>\n",
       "    .dataframe tbody tr th:only-of-type {\n",
       "        vertical-align: middle;\n",
       "    }\n",
       "\n",
       "    .dataframe tbody tr th {\n",
       "        vertical-align: top;\n",
       "    }\n",
       "\n",
       "    .dataframe thead th {\n",
       "        text-align: right;\n",
       "    }\n",
       "</style>\n",
       "<table border=\"1\" class=\"dataframe\">\n",
       "  <thead>\n",
       "    <tr style=\"text-align: right;\">\n",
       "      <th></th>\n",
       "      <th>admit</th>\n",
       "      <th>gre</th>\n",
       "      <th>gpa</th>\n",
       "      <th>rank</th>\n",
       "    </tr>\n",
       "  </thead>\n",
       "  <tbody>\n",
       "    <tr>\n",
       "      <th>0</th>\n",
       "      <td>0</td>\n",
       "      <td>380</td>\n",
       "      <td>3.61</td>\n",
       "      <td>3</td>\n",
       "    </tr>\n",
       "    <tr>\n",
       "      <th>1</th>\n",
       "      <td>1</td>\n",
       "      <td>660</td>\n",
       "      <td>3.67</td>\n",
       "      <td>3</td>\n",
       "    </tr>\n",
       "    <tr>\n",
       "      <th>2</th>\n",
       "      <td>1</td>\n",
       "      <td>800</td>\n",
       "      <td>4.00</td>\n",
       "      <td>1</td>\n",
       "    </tr>\n",
       "    <tr>\n",
       "      <th>3</th>\n",
       "      <td>1</td>\n",
       "      <td>640</td>\n",
       "      <td>3.19</td>\n",
       "      <td>4</td>\n",
       "    </tr>\n",
       "    <tr>\n",
       "      <th>4</th>\n",
       "      <td>0</td>\n",
       "      <td>520</td>\n",
       "      <td>2.93</td>\n",
       "      <td>4</td>\n",
       "    </tr>\n",
       "  </tbody>\n",
       "</table>\n",
       "</div>"
      ],
      "text/plain": [
       "   admit  gre   gpa  rank\n",
       "0      0  380  3.61     3\n",
       "1      1  660  3.67     3\n",
       "2      1  800  4.00     1\n",
       "3      1  640  3.19     4\n",
       "4      0  520  2.93     4"
      ]
     },
     "execution_count": 3,
     "metadata": {},
     "output_type": "execute_result"
    }
   ],
   "source": [
    "df.head()"
   ]
  },
  {
   "cell_type": "code",
   "execution_count": 4,
   "metadata": {},
   "outputs": [],
   "source": [
    "X = df[['gre', 'gpa', 'rank']]\n",
    "y = df['admit']"
   ]
  },
  {
   "cell_type": "code",
   "execution_count": 5,
   "metadata": {},
   "outputs": [],
   "source": [
    "X_train, X_test, y_train, y_test = train_test_split(X, y, stratify=y, test_size=0.30, random_state=42)"
   ]
  },
  {
   "cell_type": "code",
   "execution_count": 6,
   "metadata": {},
   "outputs": [],
   "source": [
    "stdsc = StandardScaler()\n",
    "X_train_std = stdsc.fit_transform(X_train)\n",
    "X_test_std = stdsc.transform(X_test)"
   ]
  },
  {
   "cell_type": "markdown",
   "metadata": {},
   "source": [
    "### Sem regularização"
   ]
  },
  {
   "cell_type": "code",
   "execution_count": 7,
   "metadata": {
    "scrolled": true
   },
   "outputs": [
    {
     "name": "stdout",
     "output_type": "stream",
     "text": [
      "Coef: [[ 4.51662719 -5.51408178 -4.22153869]]\n",
      "Intercept: [-8.48670366]\n",
      "Accuracy: 0.65\n"
     ]
    },
    {
     "name": "stderr",
     "output_type": "stream",
     "text": [
      "C:\\Users\\Lucivan\\Anaconda3\\lib\\site-packages\\sklearn\\linear_model\\stochastic_gradient.py:128: FutureWarning: max_iter and tol parameters have been added in <class 'sklearn.linear_model.stochastic_gradient.SGDClassifier'> in 0.19. If both are left unset, they default to max_iter=5 and tol=None. If tol is not None, max_iter defaults to max_iter=1000. From 0.21, default max_iter will be 1000, and default tol will be 1e-3.\n",
      "  \"and default tol will be 1e-3.\" % type(self), FutureWarning)\n"
     ]
    }
   ],
   "source": [
    "model = SGDClassifier(penalty='none')\n",
    "model.fit(X_train_std, y_train)\n",
    "y_pred = model.predict(X_test_std)\n",
    "acc = accuracy_score(y_test, y_pred)\n",
    "\n",
    "print('Coef: {}\\nIntercept: {}\\nAccuracy: {}'.format(model.coef_, model.intercept_, acc))"
   ]
  },
  {
   "cell_type": "code",
   "execution_count": 8,
   "metadata": {},
   "outputs": [
    {
     "name": "stdout",
     "output_type": "stream",
     "text": [
      "------ ****** Alpha 0.001 ****** ------\n",
      "L1\n",
      "Coef: [[ 0.         0.        -1.1531502]]\n",
      "Intercept: [-0.05432506]\n",
      "Accuracy: 0.5666666666666667\n",
      "\n",
      "L2\n",
      "Coef: [[ 0.42014238  0.70804928 -0.65946165]]\n",
      "Intercept: [-0.85912656]\n",
      "Accuracy: 0.6916666666666667\n",
      "\n",
      "Elastic Net\n",
      "Coef: [[ 0.40307689  0.         -0.67888559]]\n",
      "Intercept: [-0.86542035]\n",
      "Accuracy: 0.7083333333333334\n",
      "\n",
      "\n",
      "------ ****** Alpha 0.01 ****** ------\n",
      "L1\n",
      "Coef: [[ 0.          0.         -0.03984293]]\n",
      "Intercept: [-0.9252897]\n",
      "Accuracy: 0.6833333333333333\n",
      "\n",
      "L2\n",
      "Coef: [[-0.04731102  0.10569639 -0.22124028]]\n",
      "Intercept: [-0.99591171]\n",
      "Accuracy: 0.6833333333333333\n",
      "\n",
      "Elastic Net\n",
      "Coef: [[ 0.          0.         -0.06396977]]\n",
      "Intercept: [-0.90474453]\n",
      "Accuracy: 0.6833333333333333\n",
      "\n",
      "\n",
      "------ ****** Alpha 1 ****** ------\n",
      "L1\n",
      "Coef: [[0. 0. 0.]]\n",
      "Intercept: [-0.99925628]\n",
      "Accuracy: 0.6833333333333333\n",
      "\n",
      "L2\n",
      "Coef: [[-0.00151273  0.00050209 -0.00411768]]\n",
      "Intercept: [-0.99883472]\n",
      "Accuracy: 0.6833333333333333\n",
      "\n",
      "Elastic Net\n",
      "Coef: [[0. 0. 0.]]\n",
      "Intercept: [-0.99927491]\n",
      "Accuracy: 0.6833333333333333\n",
      "\n",
      "\n",
      "------ ****** Alpha 10 ****** ------\n",
      "L1\n",
      "Coef: [[0. 0. 0.]]\n",
      "Intercept: [-0.91253183]\n",
      "Accuracy: 0.6833333333333333\n",
      "\n",
      "L2\n",
      "Coef: [[ 0.01822087  0.01709662 -0.02182706]]\n",
      "Intercept: [-0.91202482]\n",
      "Accuracy: 0.6833333333333333\n",
      "\n",
      "Elastic Net\n",
      "Coef: [[0. 0. 0.]]\n",
      "Intercept: [-0.91253183]\n",
      "Accuracy: 0.6833333333333333\n",
      "\n",
      "\n",
      "------ ****** Alpha 100 ****** ------\n",
      "L1\n",
      "Coef: [[0. 0. 0.]]\n",
      "Intercept: [-0.35290702]\n",
      "Accuracy: 0.6833333333333333\n",
      "\n",
      "L2\n",
      "Coef: [[ 0.00190979  0.00178186 -0.00224419]]\n",
      "Intercept: [-0.35290702]\n",
      "Accuracy: 0.6833333333333333\n",
      "\n",
      "Elastic Net\n",
      "Coef: [[0. 0. 0.]]\n",
      "Intercept: [-0.35290702]\n",
      "Accuracy: 0.6833333333333333\n",
      "\n",
      "\n"
     ]
    },
    {
     "name": "stderr",
     "output_type": "stream",
     "text": [
      "C:\\Users\\Lucivan\\Anaconda3\\lib\\site-packages\\sklearn\\linear_model\\stochastic_gradient.py:128: FutureWarning: max_iter and tol parameters have been added in <class 'sklearn.linear_model.stochastic_gradient.SGDClassifier'> in 0.19. If both are left unset, they default to max_iter=5 and tol=None. If tol is not None, max_iter defaults to max_iter=1000. From 0.21, default max_iter will be 1000, and default tol will be 1e-3.\n",
      "  \"and default tol will be 1e-3.\" % type(self), FutureWarning)\n"
     ]
    }
   ],
   "source": [
    "values_alpha = [0.001, 0.01, 1, 10, 100]\n",
    "for i in values_alpha:\n",
    "    print('------ ****** Alpha {} ****** ------'.format(i));\n",
    "    #L1\n",
    "    model_l1 = SGDClassifier(penalty='l1', random_state=0, alpha=i)\n",
    "    model_l1.fit(X_train_std, y_train)\n",
    "    y_pred = model_l1.predict(X_test_std)\n",
    "    acc = accuracy_score(y_test, y_pred)\n",
    "    \n",
    "    print('L1\\nCoef: {}\\nIntercept: {}\\nAccuracy: {}\\n'.format(model_l1.coef_, model_l1.intercept_, acc))\n",
    "    \n",
    "    #L2\n",
    "    model_l2 = SGDClassifier(penalty='l2', random_state=0, alpha=i)\n",
    "    model_l2.fit(X_train_std, y_train)\n",
    "    y_pred = model_l2.predict(X_test_std)\n",
    "    acc = accuracy_score(y_test, y_pred)\n",
    "\n",
    "    print('L2\\nCoef: {}\\nIntercept: {}\\nAccuracy: {}\\n'.format(model_l2.coef_, model_l2.intercept_, acc))\n",
    "    \n",
    "    #Elastic Net\n",
    "    model_en = SGDClassifier(penalty='elasticnet', random_state=0, alpha=i)\n",
    "    model_en.fit(X_train_std, y_train)\n",
    "    y_pred = model_en.predict(X_test_std)\n",
    "    acc = accuracy_score(y_test, y_pred)\n",
    "\n",
    "    print('Elastic Net\\nCoef: {}\\nIntercept: {}\\nAccuracy: {}\\n\\n'.format(model_en.coef_, model_en.intercept_, acc))"
   ]
  },
  {
   "cell_type": "markdown",
   "metadata": {},
   "source": [
    "### Elastic Net com alpha 0.001 é o que possui uma acurácia maior com 0.6916"
   ]
  }
 ],
 "metadata": {
  "kernelspec": {
   "display_name": "Python 3",
   "language": "python",
   "name": "python3"
  },
  "language_info": {
   "codemirror_mode": {
    "name": "ipython",
    "version": 3
   },
   "file_extension": ".py",
   "mimetype": "text/x-python",
   "name": "python",
   "nbconvert_exporter": "python",
   "pygments_lexer": "ipython3",
   "version": "3.6.4"
  }
 },
 "nbformat": 4,
 "nbformat_minor": 2
}

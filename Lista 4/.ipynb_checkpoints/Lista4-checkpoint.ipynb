{
 "cells": [
  {
   "cell_type": "code",
   "execution_count": 1,
   "metadata": {},
   "outputs": [],
   "source": [
    "%matplotlib inline\n",
    "import numpy as np\n",
    "import sklearn\n",
    "from sklearn import linear_model, metrics\n",
    "import pandas as pd\n",
    "from matplotlib import pyplot as plt\n",
    "from mylibs import transform as tf"
   ]
  },
  {
   "cell_type": "code",
   "execution_count": 2,
   "metadata": {},
   "outputs": [],
   "source": [
    "np.random.seed(0)\n",
    "x = np.random.rand(20) # 20 valores\n",
    "x = (x * 100).round(2) # valores até 100\n",
    "x = np.resize(x, (20, 1))"
   ]
  },
  {
   "cell_type": "code",
   "execution_count": 3,
   "metadata": {},
   "outputs": [
    {
     "data": {
      "text/plain": [
       "array([[0.56025437],\n",
       "       [0.73661897],\n",
       "       [0.61748808],\n",
       "       [0.55612083],\n",
       "       [0.42766296],\n",
       "       [0.66316905],\n",
       "       [0.44239534],\n",
       "       [0.92379438],\n",
       "       [1.        ],\n",
       "       [0.38494966],\n",
       "       [0.81770005],\n",
       "       [0.53916269],\n",
       "       [0.58060413],\n",
       "       [0.95961844],\n",
       "       [0.05384208],\n",
       "       [0.0709062 ],\n",
       "       [0.        ],\n",
       "       [0.86104928],\n",
       "       [0.80339163],\n",
       "       [0.90068892]])"
      ]
     },
     "execution_count": 3,
     "metadata": {},
     "output_type": "execute_result"
    }
   ],
   "source": [
    "tf.normalize(x)"
   ]
  },
  {
   "cell_type": "code",
   "execution_count": 4,
   "metadata": {},
   "outputs": [
    {
     "data": {
      "text/plain": [
       "array([[-0.11870903],\n",
       "       [ 0.48434953],\n",
       "       [ 0.07699507],\n",
       "       [-0.13284322],\n",
       "       [-0.5720902 ],\n",
       "       [ 0.23319593],\n",
       "       [-0.52171451],\n",
       "       [ 1.12437442],\n",
       "       [ 1.38495081],\n",
       "       [-0.71814345],\n",
       "       [ 0.761597  ],\n",
       "       [-0.19082962],\n",
       "       [-0.04912535],\n",
       "       [ 1.24687069],\n",
       "       [-1.85032791],\n",
       "       [-1.79197909],\n",
       "       [-2.03443473],\n",
       "       [ 0.90982474],\n",
       "       [ 0.71267098],\n",
       "       [ 1.04536795]])"
      ]
     },
     "execution_count": 4,
     "metadata": {},
     "output_type": "execute_result"
    }
   ],
   "source": [
    "tf.standardize(x)"
   ]
  },
  {
   "cell_type": "code",
   "execution_count": 5,
   "metadata": {},
   "outputs": [
    {
     "data": {
      "text/plain": [
       "5"
      ]
     },
     "execution_count": 5,
     "metadata": {},
     "output_type": "execute_result"
    }
   ],
   "source": [
    "from sklearn.model_selection import KFold\n",
    "X = np.array([[1, 2], [3, 4], [1, 2], [3, 4], [2, 4], [1, 3]])\n",
    "y = np.array([1, 2, 3, 4, 5, 6])\n",
    "kf = KFold(n_splits=5)\n",
    "kf.get_n_splits(X)"
   ]
  },
  {
   "cell_type": "code",
   "execution_count": 6,
   "metadata": {},
   "outputs": [
    {
     "name": "stdout",
     "output_type": "stream",
     "text": [
      "KFold(n_splits=5, random_state=None, shuffle=False)\n"
     ]
    }
   ],
   "source": [
    "print(kf)"
   ]
  },
  {
   "cell_type": "code",
   "execution_count": 7,
   "metadata": {
    "scrolled": true
   },
   "outputs": [
    {
     "name": "stdout",
     "output_type": "stream",
     "text": [
      "TRAIN: [2 3 4 5] TEST: [0 1]\n",
      "TRAIN: [0 1 3 4 5] TEST: [2]\n",
      "TRAIN: [0 1 2 4 5] TEST: [3]\n",
      "TRAIN: [0 1 2 3 5] TEST: [4]\n",
      "TRAIN: [0 1 2 3 4] TEST: [5]\n"
     ]
    }
   ],
   "source": [
    "for train_index, test_index in kf.split(X):\n",
    "    print(\"TRAIN:\", train_index, \"TEST:\", test_index)\n",
    "    X_train, X_test = X[train_index], X[test_index]\n",
    "    y_train, y_test = y[train_index], y[test_index]"
   ]
  },
  {
   "cell_type": "code",
   "execution_count": 8,
   "metadata": {},
   "outputs": [],
   "source": [
    "def iter_test_indices(X,y=None, groups=None):\n",
    "    n_samples = _num_samples(X)\n",
    "    indices = np.arange(n_samples)\n",
    "    if self.shuffle:\n",
    "        check_random_state(self.random_state).shuffle(indices)\n",
    "\n",
    "    n_splits = self.n_splits\n",
    "    fold_sizes = (n_samples // n_splits) * np.ones(n_splits, dtype=np.int)\n",
    "    fold_sizes[:n_samples % n_splits] += 1\n",
    "    current = 0\n",
    "    for fold_size in fold_sizes:\n",
    "        start, stop = current, current + fold_size\n",
    "        yield indices[start:stop]\n",
    "        current = stop"
   ]
  },
  {
   "cell_type": "code",
   "execution_count": 9,
   "metadata": {},
   "outputs": [
    {
     "data": {
      "text/plain": [
       "<generator object iter_test_indices at 0x0000026489670FC0>"
      ]
     },
     "execution_count": 9,
     "metadata": {},
     "output_type": "execute_result"
    }
   ],
   "source": [
    "iter_test_indices(X.size)"
   ]
  },
  {
   "cell_type": "code",
   "execution_count": 26,
   "metadata": {},
   "outputs": [],
   "source": [
    "def slipt_k_fold(n_elem, n_splits, shuffle, seed):\n",
    "    total = [ i for i in range(n_elem)]\n",
    "    \n",
    "    if shuffle:\n",
    "        np.random.shuffle(total)# no array dos índices vamos misturar\n",
    "    if seed:\n",
    "        np.random.seed(seed)\n",
    "    \n",
    "    fold_sizes = (n_elem // n_splits) * np.ones(n_splits, dtype=np.int)\n",
    "    fold_sizes[:n_elem % n_splits] += 1\n",
    "    \n",
    "    idx_train = [0] * n_splits\n",
    "    idx_test = [0] * n_splits\n",
    "    i = 0\n",
    "    current = 0\n",
    "    for fold_size in fold_sizes:\n",
    "        start, stop = current, current + fold_size\n",
    "        idx_test[i] = total[start:stop]\n",
    "        range2 = np.arange(start, stop)\n",
    "        idx_train[i] = np.delete(total, range2)\n",
    "        current = stop\n",
    "        i = i + 1\n",
    "        \n",
    "    return idx_test, idx_train"
   ]
  },
  {
   "cell_type": "code",
   "execution_count": 27,
   "metadata": {},
   "outputs": [],
   "source": [
    "test, train = slipt_k_fold(20, 5, True, 2)"
   ]
  },
  {
   "cell_type": "code",
   "execution_count": 28,
   "metadata": {},
   "outputs": [
    {
     "data": {
      "text/plain": [
       "[array([ 8, 15,  0, 19, 12,  1, 16, 18, 17, 11, 10,  4,  6,  3,  7,  5]),\n",
       " array([13, 14,  2,  9, 12,  1, 16, 18, 17, 11, 10,  4,  6,  3,  7,  5]),\n",
       " array([13, 14,  2,  9,  8, 15,  0, 19, 17, 11, 10,  4,  6,  3,  7,  5]),\n",
       " array([13, 14,  2,  9,  8, 15,  0, 19, 12,  1, 16, 18,  6,  3,  7,  5]),\n",
       " array([13, 14,  2,  9,  8, 15,  0, 19, 12,  1, 16, 18, 17, 11, 10,  4])]"
      ]
     },
     "execution_count": 28,
     "metadata": {},
     "output_type": "execute_result"
    }
   ],
   "source": [
    "train"
   ]
  },
  {
   "cell_type": "code",
   "execution_count": 29,
   "metadata": {},
   "outputs": [
    {
     "data": {
      "text/plain": [
       "[[13, 14, 2, 9],\n",
       " [8, 15, 0, 19],\n",
       " [12, 1, 16, 18],\n",
       " [17, 11, 10, 4],\n",
       " [6, 3, 7, 5]]"
      ]
     },
     "execution_count": 29,
     "metadata": {},
     "output_type": "execute_result"
    }
   ],
   "source": [
    "test"
   ]
  },
  {
   "cell_type": "code",
   "execution_count": 19,
   "metadata": {},
   "outputs": [],
   "source": [
    "def __folds(n_elem, n_splits=2, shuffle=True, seed=0):\n",
    "    total = np.arange(n_elem)\n",
    "    if shuffle:\n",
    "        np.random.shuffle(total)\n",
    "    if seed:\n",
    "        np.random.seed(seed)\n",
    "    \n",
    "    fold_size = n_elem // n_splits\n",
    "    split_fold = np.arange(0, n_elem, fold_size)[1:n_splits]\n",
    "    return np.split(total, split_fold)\n",
    "    \n",
    "def split_k_fold_gaby(n_elem, n_splits=2, shuffle=True, seed=0):\n",
    "    '''Separa em K folds'''\n",
    "    if n_splits < 2:\n",
    "        raise Exception('Deve ter pelo menos 2 n_plits')\n",
    "        \n",
    "    train = []\n",
    "    test  = []\n",
    "    total = __folds(n_elem, n_splits, shuffle, seed)\n",
    "    \n",
    "    for i in range(n_splits):\n",
    "        x = np.delete(total, [i])\n",
    "        if type(x[0]) == np.ndarray:\n",
    "            x = np.concatenate(x)\n",
    "        train.append(x)\n",
    "        test.append(total[i])\n",
    "    \n",
    "    return train, test\n"
   ]
  },
  {
   "cell_type": "code",
   "execution_count": 22,
   "metadata": {},
   "outputs": [
    {
     "data": {
      "text/plain": [
       "([array([ 4, 18,  0,  9,  5,  3, 10,  1, 17,  7, 16, 14,  2, 11,  6, 19, 13,\n",
       "         15,  8]),\n",
       "  array([12, 18,  0,  9,  5,  3, 10,  1, 17,  7, 16, 14,  2, 11,  6, 19, 13,\n",
       "         15,  8]),\n",
       "  array([12,  4,  0,  9,  5,  3, 10,  1, 17,  7, 16, 14,  2, 11,  6, 19, 13,\n",
       "         15,  8]),\n",
       "  array([12,  4, 18,  9,  5,  3, 10,  1, 17,  7, 16, 14,  2, 11,  6, 19, 13,\n",
       "         15,  8]),\n",
       "  array([12,  4, 18,  0,  5,  3, 10,  1, 17,  7, 16, 14,  2, 11,  6, 19, 13,\n",
       "         15,  8])],\n",
       " [array([12,  4, 18,  0]),\n",
       "  array([ 9,  5,  3, 10]),\n",
       "  array([ 1, 17,  7, 16]),\n",
       "  array([14,  2, 11,  6]),\n",
       "  array([19, 13, 15,  8])])"
      ]
     },
     "execution_count": 22,
     "metadata": {},
     "output_type": "execute_result"
    }
   ],
   "source": [
    "split_k_fold_gaby(20, 5, True, 2)"
   ]
  },
  {
   "cell_type": "code",
   "execution_count": null,
   "metadata": {},
   "outputs": [],
   "source": []
  },
  {
   "cell_type": "code",
   "execution_count": null,
   "metadata": {},
   "outputs": [],
   "source": []
  }
 ],
 "metadata": {
  "kernelspec": {
   "display_name": "Python 3",
   "language": "python",
   "name": "python3"
  },
  "language_info": {
   "codemirror_mode": {
    "name": "ipython",
    "version": 3
   },
   "file_extension": ".py",
   "mimetype": "text/x-python",
   "name": "python",
   "nbconvert_exporter": "python",
   "pygments_lexer": "ipython3",
   "version": "3.6.4"
  }
 },
 "nbformat": 4,
 "nbformat_minor": 2
}

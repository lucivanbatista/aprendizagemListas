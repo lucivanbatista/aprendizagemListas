{
 "cells": [
  {
   "cell_type": "markdown",
   "metadata": {},
   "source": [
    "# Gradiente Descendente"
   ]
  },
  {
   "cell_type": "code",
   "execution_count": 1,
   "metadata": {
    "collapsed": true
   },
   "outputs": [],
   "source": [
    "import numpy as np\n",
    "from sklearn import linear_model"
   ]
  },
  {
   "cell_type": "markdown",
   "metadata": {},
   "source": [
    "## Implementa o gradiente descendente\n",
    "\n",
    "Para mais informações acesse: \n",
    "- https://spin.atomicobject.com/2014/06/24/gradient-descent-linear-regression/\n",
    "- https://github.com/mattnedrich/GradientDescentExample\n",
    "\n",
    "### Erro\n",
    "\n",
    "$$ Error_{\\beta_0, \\beta_1} = \\frac{1}{N} \\sum_{i=1}^{N}{(y_i - (\\beta_1 x_i + \\beta_0))^2}  $$\n",
    "\n",
    "### Derivada Parcial\n",
    "\n",
    "$$ \\frac{\\partial}{\\partial \\beta_1} = \\frac{2}{N} \\sum_{i=1}^{N} -x_i(y_i-(\\beta_1x_i + \\beta_0))  $$\n",
    "\n",
    "$$ \\frac{\\partial}{\\partial \\beta_0} = \\frac{2}{N} \\sum_{i=1}^{N} -(y_i-(\\beta_1x_i + \\beta_0))  $$\n"
   ]
  },
  {
   "cell_type": "code",
   "execution_count": 2,
   "metadata": {
    "collapsed": true
   },
   "outputs": [],
   "source": [
    "# y = b0 + b1 * x\n",
    "# b1 é a inclinação, b0 é y-intercept\n",
    "def compute_error_for_line_given_points(b0, b1, x, y):\n",
    "    totalError = np.sum((y - (b1 * x + b0)) ** 2)\n",
    "    return totalError / float(len(y))\n",
    "\n",
    "def step_gradient(b0_current, b1_current, x, y, learning_rate):\n",
    "    N = float(len(y))\n",
    "    b0_gradient = 2/N * np.sum(-(y - ((b1_current * x) + b0_current)))\n",
    "    b1_gradient = 2/N * np.sum(-x * (y - ((b1_current * x) + b0_current)))\n",
    "    new_b0 = b0_current - (learning_rate * b0_gradient)\n",
    "    new_b1 = b1_current - (learning_rate * b1_gradient)\n",
    "    return new_b0, new_b1\n",
    "\n",
    "def gradient_descent_runner(x, y, b0, b1, learning_rate, num_iterations):\n",
    "    for _ in range(num_iterations):\n",
    "        b0, b1 = step_gradient(b0, b1, x, y, learning_rate)\n",
    "    return b0, b1\n",
    "\n",
    "def run(x, y, initial_b0, initial_b1, learning_rate, num_iterations):\n",
    "    print(\"Inicia com b0 = {}, b1 = {}, error = {}\".format(initial_b0, initial_b1, compute_error_for_line_given_points(initial_b0, initial_b1, x, y)))  \n",
    "    print(\"Executando...\")\n",
    "    b0, b1 = gradient_descent_runner(x, y, initial_b0, initial_b1, learning_rate, num_iterations)\n",
    "    print(\"Após {} iterações, obtemos b0 = {}, b1 = {}, error = {}\".format(num_iterations, b0, b1, compute_error_for_line_given_points(b0, b1, x, y)))\n",
    "    "
   ]
  },
  {
   "cell_type": "markdown",
   "metadata": {},
   "source": [
    "## Carrega dados"
   ]
  },
  {
   "cell_type": "code",
   "execution_count": 3,
   "metadata": {
    "collapsed": true
   },
   "outputs": [],
   "source": [
    "# points = np.array([[1, 1], [2, 3], [4, 3], [3, 2], [5, 5]])\n",
    "points = np.genfromtxt(\"data.csv\", delimiter=\",\")"
   ]
  },
  {
   "cell_type": "markdown",
   "metadata": {},
   "source": [
    "## Define parâmetros e executa"
   ]
  },
  {
   "cell_type": "code",
   "execution_count": 4,
   "metadata": {},
   "outputs": [
    {
     "name": "stdout",
     "output_type": "stream",
     "text": [
      "Inicia com b0 = 0, b1 = 0, error = 5565.107834483214\n",
      "Executando...\n",
      "Após 100000 iterações, obtemos b0 = 4.247984440219184, b1 = 1.3959992655297515, error = 110.78631929745077\n",
      "CPU times: user 1.91 s, sys: 11.4 ms, total: 1.92 s\n",
      "Wall time: 1.95 s\n"
     ]
    }
   ],
   "source": [
    "%%time\n",
    "x = points[:, 0]\n",
    "y = points[:, 1]\n",
    "learning_rate = 0.0001\n",
    "initial_b0 = 0 # y-intercept inicial\n",
    "initial_b1 = 0 # inclinação inicial\n",
    "num_iterations = 100000\n",
    "run(x, y, initial_b0, initial_b1, learning_rate, num_iterations)"
   ]
  },
  {
   "cell_type": "markdown",
   "metadata": {},
   "source": [
    "## Resultado usando scikit learn"
   ]
  },
  {
   "cell_type": "code",
   "execution_count": 5,
   "metadata": {},
   "outputs": [
    {
     "name": "stdout",
     "output_type": "stream",
     "text": [
      "b0 = 7.991020982270399, b1 = [ 1.32243102], error = 110.25738346621316\n",
      "CPU times: user 41.5 ms, sys: 7.86 ms, total: 49.3 ms\n",
      "Wall time: 86.6 ms\n"
     ]
    }
   ],
   "source": [
    "%%time\n",
    "model = linear_model.LinearRegression()\n",
    "X = [ [i] for i in x ] \n",
    "model.fit(X, y)\n",
    "b0, b1 = model.intercept_, model.coef_\n",
    "y_pred = model.predict(X)\n",
    "print(\"b0 = {}, b1 = {}, error = {}\".format(b0, b1, compute_error_for_line_given_points(b0, b1, x, y)))"
   ]
  },
  {
   "cell_type": "code",
   "execution_count": null,
   "metadata": {
    "collapsed": true
   },
   "outputs": [],
   "source": []
  }
 ],
 "metadata": {
  "kernelspec": {
   "display_name": "Python 3",
   "language": "python",
   "name": "python3"
  },
  "language_info": {
   "codemirror_mode": {
    "name": "ipython",
    "version": 3
   },
   "file_extension": ".py",
   "mimetype": "text/x-python",
   "name": "python",
   "nbconvert_exporter": "python",
   "pygments_lexer": "ipython3",
   "version": "3.6.4"
  }
 },
 "nbformat": 4,
 "nbformat_minor": 2
}
